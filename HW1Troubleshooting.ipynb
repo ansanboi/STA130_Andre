{
 "cells": [
  {
   "cell_type": "markdown",
   "id": "57e708a1",
   "metadata": {},
   "source": [
    "# Troubleshooting\n",
    "\n",
    "Done with Copilot, as Chatgpt was limiting me to the slower model."
   ]
  },
  {
   "cell_type": "code",
   "execution_count": 14,
   "id": "b05e1c98",
   "metadata": {
    "scrolled": false
   },
   "outputs": [
    {
     "name": "stdout",
     "output_type": "stream",
     "text": [
      "number of rows: 891\n",
      "number of columns: 15\n",
      "\n",
      "\n",
      "0        male\n",
      "1      female\n",
      "2      female\n",
      "3      female\n",
      "4        male\n",
      "        ...  \n",
      "886      male\n",
      "887    female\n",
      "888    female\n",
      "889      male\n",
      "890      male\n",
      "Name: sex, Length: 891, dtype: object\n",
      "0       7.2500\n",
      "1      71.2833\n",
      "2       7.9250\n",
      "3      53.1000\n",
      "4       8.0500\n",
      "        ...   \n",
      "886    13.0000\n",
      "887    30.0000\n",
      "888    23.4500\n",
      "889    30.0000\n",
      "890     7.7500\n",
      "Name: fare, Length: 891, dtype: float64\n",
      "\n",
      "\n",
      "        count       mean        std   min        25%   50%    75%       max\n",
      "sex                                                                        \n",
      "female  314.0  44.479818  57.997698  6.75  12.071875  23.0  55.00  512.3292\n",
      "male    577.0  25.523893  43.138263  0.00   7.895800  10.5  26.55  512.3292\n"
     ]
    }
   ],
   "source": [
    "import pandas as pd\n",
    "url = \"https://raw.githubusercontent.com/mwaskom/seaborn-data/master/titanic.csv\"\n",
    "df = pd.read_csv(url)\n",
    "df_rows = df.shape[0]\n",
    "df_columns = df.shape[1]\n",
    "print('number of rows:' , df_rows)\n",
    "print('number of columns:' , df_columns)\n",
    "\n",
    "print()\n",
    "print()\n",
    "\n",
    "df_grouptest = df.groupby('sex')['fare'].describe()\n",
    "print(df['sex'])\n",
    "print(df['fare'])\n",
    "\n",
    "print()\n",
    "print()\n",
    "\n",
    "print(df_grouptest)"
   ]
  },
  {
   "cell_type": "markdown",
   "id": "70413a6c",
   "metadata": {},
   "source": [
    "## Conversation Summary\n",
    "\n",
    "1. **Data Analysis Help**: You asked for help with your data analysis, specifically with some issues in your code.\n",
    "\n",
    "2. **NameError: 'pd' is not defined**: We resolved this by ensuring you imported pandas correctly using `import pandas as pd`.\n",
    "\n",
    "3. **HTTPError: HTTP Error 404: Not Found**: We discussed checking the URL, dataset availability, internet connection, and permissions.\n",
    "\n",
    "4. **ParserError: Error tokenizing data**: We addressed this by checking the CSV file for inconsistencies and using the `error_bad_lines` parameter.\n",
    "\n",
    "5. **NameError: name 'DF' is not defined**: We corrected the variable name to ensure consistency.\n",
    "\n",
    "6. **SyntaxError: '(' was never closed**: We fixed this by ensuring all parentheses are properly closed.\n",
    "\n",
    "7. **AttributeError: 'DataFrame' object has no attribute 'groupbly'**: We corrected the typo to `groupby`.\n",
    "\n",
    "8. **AttributeError: 'SeriesGroupBy' object has no attribute 'describle'**: We fixed the typo to `describe`.\n",
    "\n",
    "9. **KeyError: 'Sex'**: We checked the column names to ensure 'Sex' exists in the dataframe.\n",
    "\n",
    "10. **KeyError: 'Column not found: Fare'**: We similarly checked for the 'Fare' column.\n",
    "\n",
    "11. **NameError: name 'sex' is not defined**: We ensured the correct syntax for accessing dataframe columns or defining variables.\n",
    "\n",
    "12. **NameError: name 'fare' is not defined**: We addressed this similarly to the 'sex' variable issue.\n",
    "\n",
    "If you have any more questions or need further assistance, feel free to ask!\n",
    "\n",
    "*Using copilot*\n"
   ]
  },
  {
   "cell_type": "markdown",
   "id": "3449ba8d",
   "metadata": {},
   "source": [
    "### Takeaways\n",
    "\n",
    "From this particular experience, I found that Copilot did an almost-perfect job of solving my queries and errors concerning the code. I think that, provided with proper context, a chatbot such as Copilot and ChatGPT can solve most coding problems. My personal philosophy is to double check with a Google search every now and again to ensure the chatbot is not hallucinating. This way, you can draw a parallel between what the chatbot tells you to do and how other experienced programmers and engineers across the internet would tackle the same problem. I would place a strong emphasis on providing proper context and wording. I would also note that it is important to establish the realm in which you are discussing things: instructing the chatbot to answer you in a specific context, such as data analysis and coding."
   ]
  }
 ],
 "metadata": {
  "kernelspec": {
   "display_name": "Python 3 (ipykernel)",
   "language": "python",
   "name": "python3"
  },
  "language_info": {
   "codemirror_mode": {
    "name": "ipython",
    "version": 3
   },
   "file_extension": ".py",
   "mimetype": "text/x-python",
   "name": "python",
   "nbconvert_exporter": "python",
   "pygments_lexer": "ipython3",
   "version": "3.11.6"
  }
 },
 "nbformat": 4,
 "nbformat_minor": 5
}
