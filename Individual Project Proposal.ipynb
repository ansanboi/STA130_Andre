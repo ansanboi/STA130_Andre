{
 "cells": [
  {
   "cell_type": "markdown",
   "id": "d57a73b4",
   "metadata": {},
   "source": [
    "# Guidelines\n",
    "\n",
    "• A clear statement of the specific research question you’ve formulated.\n",
    "\n",
    "Here, based on the data that has been provided, you should think of what might\n",
    "be interesting to study. Is there a population parameter that you would like to\n",
    "estimate? Are you interested in the association of one (or more) variables on\n",
    "some outcome?\n",
    "\n",
    "• Describe the variables you plan to explore and how you plan on exploring them.\n",
    "\n",
    "Here, it is important to also briefly discuss why you are choosing these variables.\n",
    "What plots/visualizations or summary statistics might be useful? You should also\n",
    "include a brief justification of why each type of visualization would be appropriate.\n",
    "\n",
    "• Describe the analysis you plan to perform.\n",
    "\n",
    "Based on the methods learned in class, you will have to choose one that is\n",
    "appropriate in answering your research question and describe how you would\n",
    "perform the analysis. Note any assumptions that you feel may be relevant to the\n",
    "considerations of the analysis.\n",
    "\n",
    "• Make a hypothesis for the possible results your analysis may produce and describe how\n",
    "these results would be relevant in answering your research question. If you have\n",
    "completed an analysis, you may include your results.\n",
    "\n",
    "Here, you do not actually need to perform the analysis to obtain full marks. You\n",
    "should think about the data and the procedure and hypothesize on what you\n",
    "would expect to see—things may not happen as planned and that is okay! It is\n",
    "generally good practice to relate your results back to your original research\n",
    "question.\n",
    "\n"
   ]
  },
  {
   "cell_type": "markdown",
   "id": "698e8e5c",
   "metadata": {},
   "source": [
    "#### Project Team Proposal\n",
    "Andre Sanchez-Plehn (myself), Petru Codrescu and Jason Cao Shi (been decided previously)"
   ]
  },
  {
   "cell_type": "markdown",
   "id": "779dd6d4",
   "metadata": {},
   "source": [
    "# Proposed Analysis #1\n",
    "\n",
    "#### Research Question\n",
    "I am interested in investigating whether there is a correlation (or a hint of) between the amount spent playing online video games and the scale by which participants in the 2022 cohort describe themselves as having 'someone they feel close to'. This implies a connection between meeting people in the online space and feeling a sense of connection to these 'online' people/friends. Do people feel a sense of closeness to whomever they meet whilst playing videogames?\n",
    "\n",
    "#### Variable Description\n",
    "The two variables I would be interested in analyzing are `CONNECTION_activities_onlinegames_p3m` and  `LONELY_dejong_emotional_social_loneliness_scale_close`. While the second variable doesn't specify 'who' the participant feels close to, it provides a rough overview of whether they have people they feel close to. One way to visualize these variables would be to look at a comparative box plot indicating the numerical amount of time spent in the last 3 months playing online games and the corresponding value assigned to `LONELY_dejong_emotional_social_loneliness_scale_close` per participant. In this way, we can visualize the potential relationship between these two variables, seeing if people with a higher numerical value in playing videogames have a better scale rating on the second variable.\n",
    "\n",
    "#### Analysis Description\n",
    "Perhaps a the best way to go about analyzing these two variables is to perform a linear regression and see whether they are correlated. In this case, the null hypothesis $H_0$ is that there is no correlation; i.e. $\\beta_1$ is 0. A potential, and perhaps big, caveat of this analysis is that we are making the assumption that the time spent playing videogames is a big factor in the results (of course, it stands to reason that a feeling of loneliness can be 'fixed' or 'improved' by other things).\n",
    "\n",
    "#### Potential Results\n",
    "I am expecting to see an increase in the scale of 'trusting people', on average, in people who spent more time playing videogames in the past 3 months. This presumption comes from personal experience and empirical evidence I personally have from videogame-playing friends. Still, this experience may not be universal. With these results, one can pave a way to determine whether or not people find closeness whilst playing videogames.\n",
    "\n",
    "# Proposed Analysis #2\n",
    "\n",
    "#### Research Question\n",
    "What is (if any) the correlation between income and social connection? The purpose of the question is not merely to find a linear correlation, it is to find potential relationships between income levels and social connection. The big problem here is that the data on household income is not inside the cohort data recommended by Prof. Scott. This is important because this data may not be entirely reliable, also, not every person asked the question may have opted to answer, leading to some gaps in the answers.\n",
    "\n",
    "#### Variable Description\n",
    "Even still, I still wish to propose the investigation of this income demographic relationship with social connection. The first variable to investigate is `DEMO_household_income` which would be easy to visualize in a histogram of income ranges. For the second variable (or variables) to consider, I would choose depending on the categorical data (qualitative) anaylsis method we discover along the way. I propose to look at the variables that are under the `CONNECTION` category. These variables are all questions responded in scales, which can also be visualized using histograms (scale ranges). A potential variable to consider as well is `FINANCES_money_finances_control`. This variable shows how people perceive money is dominating their life, which could very well be correlated to income levels AND how much people connect.\n",
    "\n",
    "#### Analysis Description\n",
    "My proposed way to look at the relationship between these variables is to build a bootstrapped distribution of a `CONNECTION` variable (perhaps the one that includes 'going out') and compare the average mean to the median income of the data (an income line that is defined prior to starting out the experiment). In this case, the null hypothesis $H_0$ could be that the mean of `CONNECTION` does not vary too much in relation to this income line. In other words, the null hypothesis is that income has no bearing on `CONNECTION` scale levels.\n",
    "\n",
    "#### Potential Results\n",
    "I am very interested to see if the results will indicate that on average, `CONNECTION` means would lie in the upper ranges of the income line. This would mean that people find it easier to connect with others when they have 'financial flexibilty' or some form of financial freedom. This would help answer whether or not income has a correlation with social connection. This is particularly interesting to me as it would highlight a societal emphasis on 'material experiences' as opposed to basic human 'space-sharing'. Then again, the data on this is not extremely reliable so it may not be very plausible. There is also the drawback that, again, there are many more things such as time, personality and many other human variables that can change these `CONNECTION` scales.\n",
    "\n",
    "# Proposed Analysis #3\n",
    "\n",
    "#### Research Question\n",
    "A good starting point for this proposal is the assumption that there is a relationship between close friends and loneliness (in this case, whether people feel they have companionship). Do people who have more close friends experience a better sense of companionship? Another important assumption I am making in this proposal is that close friends are a good indicator of companionship; close friends can provide companionship.\n",
    "\n",
    "#### Variable Description\n",
    "The variables proposed are straightforward. `CONNECTION_social_num_close_friends_grouped` shows the number of close friends people have. `LONELY_ucla_loneliness_scale_companionship` shows a scale of sense of companionship. A good way to visualize the latter is using a box plot, which would outline where on the scale most of the data is concentrated. The former is best visualized with a histogram that provides a rough outline of what the average number of close friends is in the dataset. A caveat here is what defines a 'close friend', some people may have higher counts due to different percepetion on what constitutes a 'close friend', which would increase the variance of the data and perhaps affect the results in terms of the correlation with sense of companionship.\n",
    "\n",
    "#### Analysis Description\n",
    "Depending on whether the data has a good correlation coefficient, we can model this relationship using a simple linear regression. The null hypothesis $H_0$ is that the slope is 0 (no relationship), and we can build a distribution (bootstrapped, of course) of $\\beta_1$ values to be tested using a confidence interval. This way, we can determine whether there is a real increment in perceived sense of companionship when there is an increment in the amount of close friends.\n",
    "\n",
    "#### Potential Results\n",
    "I expect the interval to contain values that are not 'high', meaning even people with few close friends feel some sense of companionship and having more is not a synonym with feeling more accompanied. This would directly answer the question of whether an increased number of close friends results in a better sense of companionship. Perhaps, a good path of action would we to compare the number of close friends to other variables in order to determine overall impact on loneliness and connection. (Then one could compare results across these different sample pairs)."
   ]
  }
 ],
 "metadata": {
  "kernelspec": {
   "display_name": "Python 3 (ipykernel)",
   "language": "python",
   "name": "python3"
  },
  "language_info": {
   "codemirror_mode": {
    "name": "ipython",
    "version": 3
   },
   "file_extension": ".py",
   "mimetype": "text/x-python",
   "name": "python",
   "nbconvert_exporter": "python",
   "pygments_lexer": "ipython3",
   "version": "3.11.6"
  }
 },
 "nbformat": 4,
 "nbformat_minor": 5
}
